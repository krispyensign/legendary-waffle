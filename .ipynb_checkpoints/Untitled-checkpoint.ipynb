{
 "cells": [
  {
   "cell_type": "code",
   "execution_count": 1,
   "id": "74254875-16a8-4277-8aab-3a2be2ad36e0",
   "metadata": {
    "scrolled": true
   },
   "outputs": [],
   "source": [
    "from typing import Callable\n",
    "\n",
    "from sympy import Expr, Symbol, Function, pretty_print, symbols, Rational, I, Mod, Sum, Eq\n",
    "from sympy import sin, cot, pi\n",
    "from sympy.abc import i, k, m, n, x, f"
   ]
  },
  {
   "cell_type": "code",
   "execution_count": 86,
   "id": "f2166736-e77a-429f-ac8b-2934a2177760",
   "metadata": {},
   "outputs": [
    {
     "data": {
      "text/latex": [
       "$\\displaystyle \\frac{n}{2} + \\frac{\\sum_{k=1}^{n - 1} \\sin{\\left(\\frac{2 \\pi k m}{n} \\right)} \\cot{\\left(\\frac{\\pi k}{n} \\right)}}{2}$"
      ],
      "text/plain": [
       "n/2 + Sum(sin(2*pi*k*m/n)*cot(pi*k/n), (k, 1, n - 1))/2"
      ]
     },
     "execution_count": 86,
     "metadata": {},
     "output_type": "execute_result"
    }
   ],
   "source": [
    "f = sin(2*pi*k*m/n)*cot(pi*k/n)\n",
    "fun = n/2 + Rational(1/2)*Sum(f, (k, 1, n-1))\n",
    "fun"
   ]
  },
  {
   "cell_type": "code",
   "execution_count": 73,
   "id": "6f5b9bc8-df05-4d0d-a72e-e3a5ad3d2e6e",
   "metadata": {},
   "outputs": [
    {
     "data": {
      "text/latex": [
       "$\\displaystyle \\frac{1}{2} - \\frac{i^{2 x}}{2}$"
      ],
      "text/plain": [
       "1/2 - I**(2*x)/2"
      ]
     },
     "execution_count": 73,
     "metadata": {},
     "output_type": "execute_result"
    }
   ],
   "source": [
    "g = symbols('gamma_0:100')\n",
    "md_1 = lambda x: (1 - I**(2*x))/2\n",
    "md_1(x)"
   ]
  },
  {
   "cell_type": "code",
   "execution_count": 74,
   "id": "70dca5c5-0c96-4549-be87-fc40f4717fe9",
   "metadata": {},
   "outputs": [
    {
     "data": {
      "text/latex": [
       "$\\displaystyle \\frac{i^{2 x}}{4} + \\frac{x}{2} - \\frac{1}{4}$"
      ],
      "text/plain": [
       "I**(2*x)/4 + x/2 - 1/4"
      ]
     },
     "execution_count": 74,
     "metadata": {},
     "output_type": "execute_result"
    }
   ],
   "source": [
    "fl_1 = lambda x: (x - md_1(x))/2\n",
    "fl_1(x)"
   ]
  },
  {
   "cell_type": "code",
   "execution_count": 80,
   "id": "f87513b0-16ad-4a79-a383-8e35a20fa35e",
   "metadata": {},
   "outputs": [
    {
     "data": {
      "text/latex": [
       "$\\displaystyle - \\frac{i^{2 x}}{2} - i^{\\frac{i^{2 x}}{2} + x - \\frac{1}{2}} + \\frac{3}{2}$"
      ],
      "text/plain": [
       "-I**(2*x)/2 - I**(I**(2*x)/2 + x - 1/2) + 3/2"
      ]
     },
     "execution_count": 80,
     "metadata": {},
     "output_type": "execute_result"
    }
   ],
   "source": [
    "md_2 = lambda x: 2*md_1(fl_1(x)) + md_1(x)\n",
    "md_2(x)"
   ]
  },
  {
   "cell_type": "code",
   "execution_count": 83,
   "id": "608c0046-275a-4061-9056-13fef4a4fa49",
   "metadata": {},
   "outputs": [
    {
     "data": {
      "text/latex": [
       "$\\displaystyle - \\frac{i^{3 x}}{2} - \\frac{i^{2 x}}{2} - \\frac{i^{x}}{2} + \\frac{i^{x + 1}}{2} - \\frac{i^{3 x + 1}}{2} + \\frac{3}{2}$"
      ],
      "text/plain": [
       "-I**(3*x)/2 - I**(2*x)/2 - I**x/2 + I**(x + 1)/2 - I**(3*x + 1)/2 + 3/2"
      ]
     },
     "execution_count": 83,
     "metadata": {},
     "output_type": "execute_result"
    }
   ],
   "source": [
    "qr = 1/2**Rational(1/2)\n",
    "qi = I*1/2**Rational(1/2)\n",
    "m = md_2(x)\n",
    "m = m.replace(\n",
    "    I**(I**(2*x)/2 + x - Rational(1/2)),\n",
    "    I**(I**(2*x)/2) * (I**x) * I**Rational(-1/2)\n",
    ").replace(\n",
    "    I**(3/2),\n",
    "    (qr + qi)**3\n",
    ").replace(\n",
    "    I**(I**(2*x)/2),\n",
    "    (qr + qi)**(I**(2*x))\n",
    ").replace(\n",
    "    (qr + qi)**(I**(2*x)),\n",
    "    qr+I**(2*x)*qi\n",
    ").expand().replace(\n",
    "    I**(4*x),\n",
    "    1\n",
    ").subs(\n",
    "    I*I**(3*x),\n",
    "    I**(3*x+1)\n",
    ").subs(\n",
    "    I*I**x,\n",
    "    I**(x+1)\n",
    ")\n",
    "md_2 = lambda xz: m.subs(x, xz)\n",
    "md_2(x)"
   ]
  },
  {
   "cell_type": "code",
   "execution_count": null,
   "id": "0d5e31a4-138a-4394-86c6-0f60648fda59",
   "metadata": {},
   "outputs": [],
   "source": []
  }
 ],
 "metadata": {
  "kernelspec": {
   "display_name": "Python 3 (ipykernel)",
   "language": "python",
   "name": "python3"
  },
  "language_info": {
   "codemirror_mode": {
    "name": "ipython",
    "version": 3
   },
   "file_extension": ".py",
   "mimetype": "text/x-python",
   "name": "python",
   "nbconvert_exporter": "python",
   "pygments_lexer": "ipython3",
   "version": "3.10.6"
  }
 },
 "nbformat": 4,
 "nbformat_minor": 5
}
